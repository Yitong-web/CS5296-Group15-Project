{
 "cells": [
  {
   "cell_type": "code",
   "execution_count": 1,
   "id": "90c9d334",
   "metadata": {},
   "outputs": [],
   "source": [
    "from pyspark.sql.session import SparkSession\n",
    "import findspark\n",
    "findspark.init()\n",
    "\n",
    "from pyspark.sql.types import *\n",
    "import pyspark.sql.functions as fn\n",
    "from pyspark.ml import Pipeline\n",
    "from pyspark.ml.feature import VectorAssembler,MinMaxScaler,VectorSlicer\n",
    "from pyspark.ml.feature import OneHotEncoder,StringIndexer"
   ]
  },
  {
   "cell_type": "code",
   "execution_count": 2,
   "id": "0832f854",
   "metadata": {},
   "outputs": [],
   "source": [
    "spark=SparkSession.Builder().master(\"local[2]\").getOrCreate()    # 创建spark实例对象\n",
    "sc = spark.sparkContext"
   ]
  },
  {
   "cell_type": "code",
   "execution_count": 4,
   "id": "a03d3d52",
   "metadata": {},
   "outputs": [],
   "source": [
    "# 定义数据结构\n",
    "myschema=StructType([  \n",
    "            StructField(\"标题\",StringType(),True),\n",
    "            StructField(\"室数\", IntegerType(), True),\n",
    "            StructField(\"厅数\", IntegerType(), True),\n",
    "            StructField(\"卫数\", IntegerType(), True),\n",
    "            StructField(\"面积\", DoubleType(), True),\n",
    "            StructField(\"朝向\",StringType(),True),\n",
    "            StructField(\"建造时间\",IntegerType(),True),\n",
    "            StructField(\"小区\", StringType(), True),\n",
    "            StructField(\"行政区\", StringType(), True),\n",
    "            StructField(\"街道\", StringType(), True),\n",
    "            StructField(\"门牌号\", StringType(), True),\n",
    "            StructField(\"单价\", DoubleType(),True),\n",
    "            StructField(\"总价\", DoubleType(),True),\n",
    "            StructField(\"楼层所属区域\",StringType(),True),\n",
    "])"
   ]
  },
  {
   "cell_type": "code",
   "execution_count": 5,
   "id": "ac4458a1",
   "metadata": {},
   "outputs": [
    {
     "name": "stdout",
     "output_type": "stream",
     "text": [
      "+-----------------------------------+----+----+----+------+----+--------+----------------+------+--------------+------------+-------+-----+------------+\n",
      "|                               标题|室数|厅数|卫数|  面积|朝向|建造时间|            小区|行政区|          街道|      门牌号|   单价| 总价|楼层所属区域|\n",
      "+-----------------------------------+----+----+----+------+----+--------+----------------+------+--------------+------------+-------+-----+------------+\n",
      "| 新上 武汉天地优质笋房 多层 通透...|   3|   2|   2|133.94|南北|    2010|  武汉天地御江苑|  江岸|        永清街|   永安路6号|49372.0|661.0|        高层|\n",
      "|                 正南 2室2厅 精装修|   2|   2|   1|  85.3|  南|    2016|  福星华府(东区)|  江汉|        杨汊湖|  新湾路23号|14536.0|124.0|        高层|\n",
      "|急售，急售，降价20万毛坯朝南三房...|   3|   2|   1| 98.92|南北|    2022|中建星光城(二期)|  洪山|九峰山森林公园|光谷三路59号|14456.0|143.0|        中层|\n",
      "+-----------------------------------+----+----+----+------+----+--------+----------------+------+--------------+------------+-------+-----+------------+\n",
      "only showing top 3 rows\n",
      "\n",
      "root\n",
      " |-- 标题: string (nullable = true)\n",
      " |-- 室数: integer (nullable = true)\n",
      " |-- 厅数: integer (nullable = true)\n",
      " |-- 卫数: integer (nullable = true)\n",
      " |-- 面积: double (nullable = true)\n",
      " |-- 朝向: string (nullable = true)\n",
      " |-- 建造时间: integer (nullable = true)\n",
      " |-- 小区: string (nullable = true)\n",
      " |-- 行政区: string (nullable = true)\n",
      " |-- 街道: string (nullable = true)\n",
      " |-- 门牌号: string (nullable = true)\n",
      " |-- 单价: double (nullable = true)\n",
      " |-- 总价: double (nullable = true)\n",
      " |-- 楼层所属区域: string (nullable = true)\n",
      "\n"
     ]
    }
   ],
   "source": [
    "data=spark.read.csv('./data/data.csv',schema=myschema,header=True)\n",
    "data.show(3)                                 # 展示前三行的数据\n",
    "data.printSchema()                           # 打印数据结构信息"
   ]
  },
  {
   "cell_type": "code",
   "execution_count": 6,
   "id": "3f1598b6",
   "metadata": {},
   "outputs": [
    {
     "name": "stdout",
     "output_type": "stream",
     "text": [
      "+----+----+----+------+--------+----+------+------------+-------+\n",
      "|室数|厅数|卫数|  面积|建造时间|朝向|行政区|楼层所属区域|   单价|\n",
      "+----+----+----+------+--------+----+------+------------+-------+\n",
      "|   3|   2|   2|133.94|    2010|南北|  江岸|        高层|49372.0|\n",
      "|   2|   2|   1|  85.3|    2016|  南|  江汉|        高层|14536.0|\n",
      "|   3|   2|   1| 98.92|    2022|南北|  洪山|        中层|14456.0|\n",
      "+----+----+----+------+--------+----+------+------------+-------+\n",
      "only showing top 3 rows\n",
      "\n",
      "root\n",
      " |-- 室数: integer (nullable = true)\n",
      " |-- 厅数: integer (nullable = true)\n",
      " |-- 卫数: integer (nullable = true)\n",
      " |-- 面积: double (nullable = true)\n",
      " |-- 建造时间: integer (nullable = true)\n",
      " |-- 朝向: string (nullable = true)\n",
      " |-- 行政区: string (nullable = true)\n",
      " |-- 楼层所属区域: string (nullable = true)\n",
      " |-- 单价: double (nullable = true)\n",
      "\n"
     ]
    }
   ],
   "source": [
    "df=data.select(\"室数\",\"厅数\",\"卫数\",\"面积\",\"建造时间\",\"朝向\",\"行政区\",\"楼层所属区域\",\"单价\")\n",
    "df.show(3)\n",
    "df.printSchema()"
   ]
  },
  {
   "cell_type": "code",
   "execution_count": 7,
   "id": "b5cfcd47",
   "metadata": {},
   "outputs": [
    {
     "name": "stdout",
     "output_type": "stream",
     "text": [
      "+----+----+----+------+--------+----+------+------------+-------+-------------+-------------+\n",
      "|室数|厅数|卫数|  面积|建造时间|朝向|行政区|楼层所属区域|   单价|朝向_features|  朝向_onehot|\n",
      "+----+----+----+------+--------+----+------+------------+-------+-------------+-------------+\n",
      "|   3|   2|   2|133.94|    2010|南北|  江岸|        高层|49372.0|          0.0|(9,[0],[1.0])|\n",
      "|   2|   2|   1|  85.3|    2016|  南|  江汉|        高层|14536.0|          1.0|(9,[1],[1.0])|\n",
      "|   3|   2|   1| 98.92|    2022|南北|  洪山|        中层|14456.0|          0.0|(9,[0],[1.0])|\n",
      "+----+----+----+------+--------+----+------+------------+-------+-------------+-------------+\n",
      "only showing top 3 rows\n",
      "\n"
     ]
    }
   ],
   "source": [
    "# 对朝向进行编码\n",
    "stringindexer = StringIndexer(inputCol='朝向', outputCol=\"朝向_features\")\n",
    "encoder = OneHotEncoder(dropLast=False, inputCol=\"朝向_features\", outputCol=\"朝向_onehot\")\n",
    "pipeline = Pipeline(stages=[stringindexer, encoder])\n",
    "pipeline_fit = pipeline.fit(df)\n",
    "df = pipeline_fit.transform(df)\n",
    "df.show(3)"
   ]
  },
  {
   "cell_type": "code",
   "execution_count": 8,
   "id": "1dc5a9b0",
   "metadata": {},
   "outputs": [
    {
     "name": "stdout",
     "output_type": "stream",
     "text": [
      "+----+----+----+------+--------+----+------+------------+-------+-------------+-------------+---------------+--------------+\n",
      "|室数|厅数|卫数|  面积|建造时间|朝向|行政区|楼层所属区域|   单价|朝向_features|  朝向_onehot|行政区_features| 行政区_onehot|\n",
      "+----+----+----+------+--------+----+------+------------+-------+-------------+-------------+---------------+--------------+\n",
      "|   3|   2|   2|133.94|    2010|南北|  江岸|        高层|49372.0|          0.0|(9,[0],[1.0])|            3.0|(13,[3],[1.0])|\n",
      "|   2|   2|   1|  85.3|    2016|  南|  江汉|        高层|14536.0|          1.0|(9,[1],[1.0])|            6.0|(13,[6],[1.0])|\n",
      "|   3|   2|   1| 98.92|    2022|南北|  洪山|        中层|14456.0|          0.0|(9,[0],[1.0])|            0.0|(13,[0],[1.0])|\n",
      "+----+----+----+------+--------+----+------+------------+-------+-------------+-------------+---------------+--------------+\n",
      "only showing top 3 rows\n",
      "\n"
     ]
    }
   ],
   "source": [
    "# 对行政区进行编码\n",
    "stringindexer = StringIndexer(inputCol='行政区', outputCol=\"行政区_features\")\n",
    "encoder = OneHotEncoder(dropLast=False, inputCol=\"行政区_features\", outputCol=\"行政区_onehot\")\n",
    "pipeline = Pipeline(stages=[stringindexer, encoder])\n",
    "pipeline_fit = pipeline.fit(df)\n",
    "df = pipeline_fit.transform(df)\n",
    "df.show(3)"
   ]
  },
  {
   "cell_type": "code",
   "execution_count": 9,
   "id": "cff0d791",
   "metadata": {},
   "outputs": [
    {
     "name": "stdout",
     "output_type": "stream",
     "text": [
      "+----+----+----+------+--------+----+------+------------+-------+-------------+-------------+---------------+--------------+---------------------+-------------------+\n",
      "|室数|厅数|卫数|  面积|建造时间|朝向|行政区|楼层所属区域|   单价|朝向_features|  朝向_onehot|行政区_features| 行政区_onehot|楼层所属区域_features|楼层所属区域_onehot|\n",
      "+----+----+----+------+--------+----+------+------------+-------+-------------+-------------+---------------+--------------+---------------------+-------------------+\n",
      "|   3|   2|   2|133.94|    2010|南北|  江岸|        高层|49372.0|          0.0|(9,[0],[1.0])|            3.0|(13,[3],[1.0])|                  0.0|      (5,[0],[1.0])|\n",
      "|   2|   2|   1|  85.3|    2016|  南|  江汉|        高层|14536.0|          1.0|(9,[1],[1.0])|            6.0|(13,[6],[1.0])|                  0.0|      (5,[0],[1.0])|\n",
      "|   3|   2|   1| 98.92|    2022|南北|  洪山|        中层|14456.0|          0.0|(9,[0],[1.0])|            0.0|(13,[0],[1.0])|                  2.0|      (5,[2],[1.0])|\n",
      "+----+----+----+------+--------+----+------+------------+-------+-------------+-------------+---------------+--------------+---------------------+-------------------+\n",
      "only showing top 3 rows\n",
      "\n"
     ]
    }
   ],
   "source": [
    "# 对楼层所属区域进行编码\n",
    "stringindexer = StringIndexer(inputCol='楼层所属区域', outputCol=\"楼层所属区域_features\")\n",
    "encoder = OneHotEncoder(dropLast=False, inputCol=\"楼层所属区域_features\", outputCol=\"楼层所属区域_onehot\")\n",
    "pipeline = Pipeline(stages=[stringindexer, encoder])\n",
    "pipeline_fit = pipeline.fit(df)\n",
    "df = pipeline_fit.transform(df)\n",
    "df.show(3)"
   ]
  },
  {
   "cell_type": "code",
   "execution_count": 10,
   "id": "695356e5",
   "metadata": {},
   "outputs": [
    {
     "name": "stdout",
     "output_type": "stream",
     "text": [
      "+----+----+----+------+--------+----+------+------------+-------+-------------+-------------+---------------+--------------+---------------------+-------------------+\n",
      "|室数|厅数|卫数|  面积|建造时间|朝向|行政区|楼层所属区域|   单价|朝向_features|  朝向_onehot|行政区_features| 行政区_onehot|楼层所属区域_features|楼层所属区域_onehot|\n",
      "+----+----+----+------+--------+----+------+------------+-------+-------------+-------------+---------------+--------------+---------------------+-------------------+\n",
      "|   3|   2|   2|133.94|      13|南北|  江岸|        高层|49372.0|          0.0|(9,[0],[1.0])|            3.0|(13,[3],[1.0])|                  0.0|      (5,[0],[1.0])|\n",
      "|   2|   2|   1|  85.3|       7|  南|  江汉|        高层|14536.0|          1.0|(9,[1],[1.0])|            6.0|(13,[6],[1.0])|                  0.0|      (5,[0],[1.0])|\n",
      "|   3|   2|   1| 98.92|       1|南北|  洪山|        中层|14456.0|          0.0|(9,[0],[1.0])|            0.0|(13,[0],[1.0])|                  2.0|      (5,[2],[1.0])|\n",
      "+----+----+----+------+--------+----+------+------------+-------+-------------+-------------+---------------+--------------+---------------------+-------------------+\n",
      "only showing top 3 rows\n",
      "\n"
     ]
    }
   ],
   "source": [
    "# 用当前年份减去建造时间构建新的“建造时间”字段\n",
    "df=df.withColumn(\"建造时间\", 2023-data[\"建造时间\"])\n",
    "df.show(3)"
   ]
  },
  {
   "cell_type": "code",
   "execution_count": 11,
   "id": "237a33c3",
   "metadata": {},
   "outputs": [
    {
     "name": "stdout",
     "output_type": "stream",
     "text": [
      "root\n",
      " |-- 室数: integer (nullable = true)\n",
      " |-- 厅数: integer (nullable = true)\n",
      " |-- 卫数: integer (nullable = true)\n",
      " |-- 面积: double (nullable = true)\n",
      " |-- 建造时间: integer (nullable = true)\n",
      " |-- 朝向: string (nullable = true)\n",
      " |-- 行政区: string (nullable = true)\n",
      " |-- 楼层所属区域: string (nullable = true)\n",
      " |-- 单价: double (nullable = true)\n",
      " |-- 朝向_features: double (nullable = false)\n",
      " |-- 朝向_onehot: vector (nullable = true)\n",
      " |-- 行政区_features: double (nullable = false)\n",
      " |-- 行政区_onehot: vector (nullable = true)\n",
      " |-- 楼层所属区域_features: double (nullable = false)\n",
      " |-- 楼层所属区域_onehot: vector (nullable = true)\n",
      "\n"
     ]
    }
   ],
   "source": [
    "df.printSchema()"
   ]
  },
  {
   "cell_type": "code",
   "execution_count": 12,
   "id": "3c30c730",
   "metadata": {},
   "outputs": [
    {
     "name": "stdout",
     "output_type": "stream",
     "text": [
      "+----+----+----+------+--------+-------------+--------------+-------------------+-------+\n",
      "|室数|厅数|卫数|  面积|建造时间|  朝向_onehot| 行政区_onehot|楼层所属区域_onehot|   单价|\n",
      "+----+----+----+------+--------+-------------+--------------+-------------------+-------+\n",
      "|   3|   2|   2|133.94|      13|(9,[0],[1.0])|(13,[3],[1.0])|      (5,[0],[1.0])|49372.0|\n",
      "|   2|   2|   1|  85.3|       7|(9,[1],[1.0])|(13,[6],[1.0])|      (5,[0],[1.0])|14536.0|\n",
      "|   3|   2|   1| 98.92|       1|(9,[0],[1.0])|(13,[0],[1.0])|      (5,[2],[1.0])|14456.0|\n",
      "+----+----+----+------+--------+-------------+--------------+-------------------+-------+\n",
      "only showing top 3 rows\n",
      "\n",
      "root\n",
      " |-- 室数: integer (nullable = true)\n",
      " |-- 厅数: integer (nullable = true)\n",
      " |-- 卫数: integer (nullable = true)\n",
      " |-- 面积: double (nullable = true)\n",
      " |-- 建造时间: integer (nullable = true)\n",
      " |-- 朝向_onehot: vector (nullable = true)\n",
      " |-- 行政区_onehot: vector (nullable = true)\n",
      " |-- 楼层所属区域_onehot: vector (nullable = true)\n",
      " |-- 单价: double (nullable = true)\n",
      "\n"
     ]
    }
   ],
   "source": [
    "df=df.select(\"室数\",\"厅数\",\"卫数\",\"面积\",\"建造时间\",\"朝向_onehot\",\"行政区_onehot\",\"楼层所属区域_onehot\",\"单价\")\n",
    "df.show(3)\n",
    "df.printSchema()"
   ]
  },
  {
   "cell_type": "markdown",
   "id": "32079561",
   "metadata": {},
   "source": [
    "## 连续变量归一化"
   ]
  },
  {
   "cell_type": "code",
   "execution_count": 13,
   "id": "1e3c224d",
   "metadata": {},
   "outputs": [
    {
     "name": "stdout",
     "output_type": "stream",
     "text": [
      "+----+----+----+------+--------+-------------+--------------+-------------------+-------+--------------------+--------------------+\n",
      "|室数|厅数|卫数|  面积|建造时间|  朝向_onehot| 行政区_onehot|楼层所属区域_onehot|   单价|        连续变量_vec|     连续变量_scaled|\n",
      "+----+----+----+------+--------+-------------+--------------+-------------------+-------+--------------------+--------------------+\n",
      "|   3|   2|   2|133.94|      13|(9,[0],[1.0])|(13,[3],[1.0])|      (5,[0],[1.0])|49372.0|[3.0,2.0,2.0,133....|[0.4,0.5,0.333333...|\n",
      "|   2|   2|   1|  85.3|       7|(9,[1],[1.0])|(13,[6],[1.0])|      (5,[0],[1.0])|14536.0|[2.0,2.0,1.0,85.3...|[0.2,0.5,0.0,0.19...|\n",
      "|   3|   2|   1| 98.92|       1|(9,[0],[1.0])|(13,[0],[1.0])|      (5,[2],[1.0])|14456.0|[3.0,2.0,1.0,98.9...|[0.4,0.5,0.0,0.25...|\n",
      "+----+----+----+------+--------+-------------+--------------+-------------------+-------+--------------------+--------------------+\n",
      "only showing top 3 rows\n",
      "\n"
     ]
    }
   ],
   "source": [
    "# 对数值型变量进行变量归一化处理\n",
    "vectorizer = VectorAssembler(inputCols=['室数','厅数','卫数','面积','建造时间',\"单价\"],outputCol= '连续变量_vec')\n",
    "mmScaler = MinMaxScaler(inputCol=vectorizer.getOutputCol(),outputCol='连续变量_scaled')\n",
    "pipeline = Pipeline(stages=[vectorizer, mmScaler])\n",
    "df= pipeline.fit(df).transform(df)\n",
    "df.show(3)"
   ]
  },
  {
   "cell_type": "code",
   "execution_count": 14,
   "id": "2172d056",
   "metadata": {},
   "outputs": [],
   "source": [
    "# 归一化后的数值型自变量\n",
    "vs = VectorSlicer(inputCol=\"连续变量_scaled\", outputCol=\"数值型自变量_scaled\",indices=[0,1,2,3,4])\n",
    "df=vs.transform(df)\n",
    "# 归一化后的数值型因变量\n",
    "vs = VectorSlicer(inputCol=\"连续变量_scaled\", outputCol=\"数值型因变量_scaled\",indices=[5])\n",
    "df=vs.transform(df)"
   ]
  },
  {
   "cell_type": "code",
   "execution_count": 15,
   "id": "075fe514",
   "metadata": {},
   "outputs": [
    {
     "name": "stdout",
     "output_type": "stream",
     "text": [
      "+----+----+----+------+--------+-------------+--------------+-------------------+-------+--------------------+--------------------+--------------------+--------------------+\n",
      "|室数|厅数|卫数|  面积|建造时间|  朝向_onehot| 行政区_onehot|楼层所属区域_onehot|   单价|        连续变量_vec|     连续变量_scaled| 数值型自变量_scaled| 数值型因变量_scaled|\n",
      "+----+----+----+------+--------+-------------+--------------+-------------------+-------+--------------------+--------------------+--------------------+--------------------+\n",
      "|   3|   2|   2|133.94|      13|(9,[0],[1.0])|(13,[3],[1.0])|      (5,[0],[1.0])|49372.0|[3.0,2.0,2.0,133....|[0.4,0.5,0.333333...|[0.4,0.5,0.333333...|[0.9644192422731804]|\n",
      "|   2|   2|   1|  85.3|       7|(9,[1],[1.0])|(13,[6],[1.0])|      (5,[0],[1.0])|14536.0|[2.0,2.0,1.0,85.3...|[0.2,0.5,0.0,0.19...|[0.2,0.5,0.0,0.19...|[0.24083998005982...|\n",
      "|   3|   2|   1| 98.92|       1|(9,[0],[1.0])|(13,[0],[1.0])|      (5,[2],[1.0])|14456.0|[3.0,2.0,1.0,98.9...|[0.4,0.5,0.0,0.25...|[0.4,0.5,0.0,0.25...|[0.23917829843801...|\n",
      "+----+----+----+------+--------+-------------+--------------+-------------------+-------+--------------------+--------------------+--------------------+--------------------+\n",
      "only showing top 3 rows\n",
      "\n",
      "root\n",
      " |-- 室数: integer (nullable = true)\n",
      " |-- 厅数: integer (nullable = true)\n",
      " |-- 卫数: integer (nullable = true)\n",
      " |-- 面积: double (nullable = true)\n",
      " |-- 建造时间: integer (nullable = true)\n",
      " |-- 朝向_onehot: vector (nullable = true)\n",
      " |-- 行政区_onehot: vector (nullable = true)\n",
      " |-- 楼层所属区域_onehot: vector (nullable = true)\n",
      " |-- 单价: double (nullable = true)\n",
      " |-- 连续变量_vec: vector (nullable = true)\n",
      " |-- 连续变量_scaled: vector (nullable = true)\n",
      " |-- 数值型自变量_scaled: vector (nullable = true)\n",
      " |-- 数值型因变量_scaled: vector (nullable = true)\n",
      "\n"
     ]
    }
   ],
   "source": [
    "df.show(3)\n",
    "df.printSchema()"
   ]
  },
  {
   "cell_type": "code",
   "execution_count": 16,
   "id": "be4a71f9",
   "metadata": {},
   "outputs": [],
   "source": [
    "import pandas\n",
    "from pyspark.sql.functions import monotonically_increasing_id"
   ]
  },
  {
   "cell_type": "code",
   "execution_count": 17,
   "id": "3717cfe1",
   "metadata": {},
   "outputs": [
    {
     "name": "stdout",
     "output_type": "stream",
     "text": [
      "+-------------------+---+\n",
      "|                  0| id|\n",
      "+-------------------+---+\n",
      "| 0.9644192422731804|  0|\n",
      "|0.24083998005982052|  1|\n",
      "|0.23917829843801924|  2|\n",
      "+-------------------+---+\n",
      "only showing top 3 rows\n",
      "\n"
     ]
    }
   ],
   "source": [
    "a=df.select(\"数值型因变量_scaled\").collect()\n",
    "b=[a[i][0][0] for i in range(df.count())]                             # 由数值型因变量_scaled的取值所构成的一个列表\n",
    "new_df = spark.createDataFrame(pandas.DataFrame(b))                   # 创建spark dataframe\n",
    "new_df = new_df.withColumn(\"id\", monotonically_increasing_id())       # 添加索引\n",
    "new_df.show(3)"
   ]
  },
  {
   "cell_type": "code",
   "execution_count": 18,
   "id": "439f3d9b",
   "metadata": {},
   "outputs": [],
   "source": [
    "from pyspark.sql.functions import monotonically_increasing_id\n",
    "df1 = df.withColumn(\"pid\", monotonically_increasing_id())\n",
    "# df1.show(2,vertical=True)"
   ]
  },
  {
   "cell_type": "code",
   "execution_count": 19,
   "id": "c8eb155d",
   "metadata": {},
   "outputs": [
    {
     "name": "stdout",
     "output_type": "stream",
     "text": [
      "-RECORD 0-----------------------------------\n",
      " 室数                | 3                    \n",
      " 厅数                | 2                    \n",
      " 卫数                | 2                    \n",
      " 面积                | 133.94               \n",
      " 建造时间            | 13                   \n",
      " 朝向_onehot         | (9,[0],[1.0])        \n",
      " 行政区_onehot       | (13,[3],[1.0])       \n",
      " 楼层所属区域_onehot | (5,[0],[1.0])        \n",
      " 单价                | 49372.0              \n",
      " 连续变量_vec        | [3.0,2.0,2.0,133.... \n",
      " 连续变量_scaled     | [0.4,0.5,0.333333... \n",
      " 数值型自变量_scaled | [0.4,0.5,0.333333... \n",
      " 数值型因变量_scaled | [0.9644192422731804] \n",
      " pid                 | 0                    \n",
      " 0                   | 0.9644192422731804   \n",
      " id                  | 0                    \n",
      "only showing top 1 row\n",
      "\n"
     ]
    }
   ],
   "source": [
    "join_df = df1.join(new_df, df1.pid==new_df.id)\n",
    "join_df.show(1,vertical=True)"
   ]
  },
  {
   "cell_type": "code",
   "execution_count": 20,
   "id": "909df9d9",
   "metadata": {},
   "outputs": [
    {
     "name": "stdout",
     "output_type": "stream",
     "text": [
      "-RECORD 0-----------------------------------\n",
      " 室数                | 3                    \n",
      " 厅数                | 2                    \n",
      " 卫数                | 2                    \n",
      " 面积                | 133.94               \n",
      " 建造时间            | 13                   \n",
      " 朝向_onehot         | (9,[0],[1.0])        \n",
      " 行政区_onehot       | (13,[3],[1.0])       \n",
      " 楼层所属区域_onehot | (5,[0],[1.0])        \n",
      " 单价                | 49372.0              \n",
      " 连续变量_vec        | [3.0,2.0,2.0,133.... \n",
      " 连续变量_scaled     | [0.4,0.5,0.333333... \n",
      " 数值型自变量_scaled | [0.4,0.5,0.333333... \n",
      " 数值型因变量_scaled | 0.9644192422731804   \n",
      " pid                 | 0                    \n",
      " 0                   | 0.9644192422731804   \n",
      " id                  | 0                    \n",
      "only showing top 1 row\n",
      "\n",
      "root\n",
      " |-- 室数: integer (nullable = true)\n",
      " |-- 厅数: integer (nullable = true)\n",
      " |-- 卫数: integer (nullable = true)\n",
      " |-- 面积: double (nullable = true)\n",
      " |-- 建造时间: integer (nullable = true)\n",
      " |-- 朝向_onehot: vector (nullable = true)\n",
      " |-- 行政区_onehot: vector (nullable = true)\n",
      " |-- 楼层所属区域_onehot: vector (nullable = true)\n",
      " |-- 单价: double (nullable = true)\n",
      " |-- 连续变量_vec: vector (nullable = true)\n",
      " |-- 连续变量_scaled: vector (nullable = true)\n",
      " |-- 数值型自变量_scaled: vector (nullable = true)\n",
      " |-- 数值型因变量_scaled: double (nullable = true)\n",
      " |-- pid: long (nullable = false)\n",
      " |-- 0: double (nullable = true)\n",
      " |-- id: long (nullable = false)\n",
      "\n"
     ]
    }
   ],
   "source": [
    "# 修改列数据(数值型因变量_scaled)\n",
    "join_df=join_df.withColumn(\"数值型因变量_scaled\",join_df[\"0\"])\n",
    "join_df.show(1,vertical=True)\n",
    "join_df.printSchema()"
   ]
  },
  {
   "cell_type": "markdown",
   "id": "eb86b8a4",
   "metadata": {},
   "source": [
    "## 数据整合"
   ]
  },
  {
   "cell_type": "code",
   "execution_count": 21,
   "id": "b4d5a747",
   "metadata": {},
   "outputs": [
    {
     "name": "stdout",
     "output_type": "stream",
     "text": [
      "+----+----+----+------+--------+-------------+--------------+-------------------+-------+--------------------+--------------------+--------------------+-------------------+---+-------------------+---+--------------------+\n",
      "|室数|厅数|卫数|  面积|建造时间|  朝向_onehot| 行政区_onehot|楼层所属区域_onehot|   单价|        连续变量_vec|     连续变量_scaled| 数值型自变量_scaled|数值型因变量_scaled|pid|                  0| id|            features|\n",
      "+----+----+----+------+--------+-------------+--------------+-------------------+-------+--------------------+--------------------+--------------------+-------------------+---+-------------------+---+--------------------+\n",
      "|   3|   2|   2|133.94|      13|(9,[0],[1.0])|(13,[3],[1.0])|      (5,[0],[1.0])|49372.0|[3.0,2.0,2.0,133....|[0.4,0.5,0.333333...|[0.4,0.5,0.333333...| 0.9644192422731804|  0| 0.9644192422731804|  0|(32,[0,12,22,27,2...|\n",
      "|   2|   2|   1|  85.3|       7|(9,[1],[1.0])|(13,[6],[1.0])|      (5,[0],[1.0])|14536.0|[2.0,2.0,1.0,85.3...|[0.2,0.5,0.0,0.19...|[0.2,0.5,0.0,0.19...|0.24083998005982052|  1|0.24083998005982052|  1|(32,[1,15,22,27,2...|\n",
      "|   3|   2|   1| 98.92|       1|(9,[0],[1.0])|(13,[0],[1.0])|      (5,[2],[1.0])|14456.0|[3.0,2.0,1.0,98.9...|[0.4,0.5,0.0,0.25...|[0.4,0.5,0.0,0.25...|0.23917829843801924|  2|0.23917829843801924|  2|(32,[0,9,24,27,28...|\n",
      "+----+----+----+------+--------+-------------+--------------+-------------------+-------+--------------------+--------------------+--------------------+-------------------+---+-------------------+---+--------------------+\n",
      "only showing top 3 rows\n",
      "\n"
     ]
    }
   ],
   "source": [
    "inputCols=['朝向_onehot','行政区_onehot','楼层所属区域_onehot','数值型自变量_scaled']\n",
    "assembler = VectorAssembler(inputCols=inputCols,outputCol='features')\n",
    "join_df=assembler.transform(join_df)\n",
    "join_df.show(3)"
   ]
  },
  {
   "cell_type": "code",
   "execution_count": 22,
   "id": "c0d7d24e",
   "metadata": {},
   "outputs": [
    {
     "name": "stdout",
     "output_type": "stream",
     "text": [
      "+------------------------------------------------------------------------------------------------------------+-------------------+\n",
      "|features                                                                                                    |数值型因变量_scaled|\n",
      "+------------------------------------------------------------------------------------------------------------+-------------------+\n",
      "|(32,[0,12,22,27,28,29,30,31],[1.0,1.0,1.0,0.4,0.5,0.3333333333333333,0.3800883149653048,0.3939393939393939])|0.9644192422731804 |\n",
      "|(32,[1,15,22,27,28,30,31],[1.0,1.0,1.0,0.2,0.5,0.19959924301458307,0.21212121212121213])                    |0.24083998005982052|\n",
      "|(32,[0,9,24,27,28,30,31],[1.0,1.0,1.0,0.4,0.5,0.2501391517310475,0.030303030303030304])                     |0.23917829843801924|\n",
      "+------------------------------------------------------------------------------------------------------------+-------------------+\n",
      "only showing top 3 rows\n",
      "\n",
      "root\n",
      " |-- features: vector (nullable = true)\n",
      " |-- 数值型因变量_scaled: double (nullable = true)\n",
      "\n"
     ]
    }
   ],
   "source": [
    "data=join_df.select(\"features\",\"数值型因变量_scaled\")\n",
    "data.show(3,truncate=False)\n",
    "data.printSchema()"
   ]
  },
  {
   "cell_type": "markdown",
   "id": "eee08518",
   "metadata": {},
   "source": [
    "## 数据集拆分\n",
    "70%训练集，30%测试集"
   ]
  },
  {
   "cell_type": "code",
   "execution_count": 23,
   "id": "f5ee6809",
   "metadata": {},
   "outputs": [
    {
     "name": "stdout",
     "output_type": "stream",
     "text": [
      "+--------------------+-------------------+\n",
      "|            features|数值型因变量_scaled|\n",
      "+--------------------+-------------------+\n",
      "|(32,[0,9,22,27,28...|0.23113991359255565|\n",
      "|(32,[0,9,22,27,28...|0.23768278497839812|\n",
      "|(32,[0,9,22,27,28...|0.22519940179461614|\n",
      "+--------------------+-------------------+\n",
      "only showing top 3 rows\n",
      "\n"
     ]
    },
    {
     "data": {
      "text/plain": [
       "257"
      ]
     },
     "execution_count": 23,
     "metadata": {},
     "output_type": "execute_result"
    }
   ],
   "source": [
    "train_data,test_data =data.randomSplit([0.7, 0.3], seed=2023)\n",
    "train_data.show(3)\n",
    "train_data.count()"
   ]
  },
  {
   "cell_type": "code",
   "execution_count": 24,
   "id": "fd700acf",
   "metadata": {},
   "outputs": [
    {
     "name": "stdout",
     "output_type": "stream",
     "text": [
      "+--------------------+-------------------+\n",
      "|            features|数值型因变量_scaled|\n",
      "+--------------------+-------------------+\n",
      "|(32,[0,9,22,27,28...| 0.2703555998670654|\n",
      "|(32,[0,9,22,27,28...|0.22503323363243602|\n",
      "|(32,[0,9,22,27,28...|0.40403788634097704|\n",
      "+--------------------+-------------------+\n",
      "only showing top 3 rows\n",
      "\n"
     ]
    },
    {
     "data": {
      "text/plain": [
       "119"
      ]
     },
     "execution_count": 24,
     "metadata": {},
     "output_type": "execute_result"
    }
   ],
   "source": [
    "test_data.show(3)\n",
    "test_data.count()"
   ]
  },
  {
   "cell_type": "markdown",
   "id": "8d8fad55",
   "metadata": {},
   "source": [
    "## 模型拟合+模型评估\n",
    "模型分回归决策树、GBDT、随机森林\n",
    "\n",
    "评估结果以RMSE（均方根误差）、MAE（平均绝对误差）和R²（决定系数）为标准"
   ]
  },
  {
   "cell_type": "code",
   "execution_count": 25,
   "id": "493f17c7",
   "metadata": {},
   "outputs": [],
   "source": [
    "from pyspark.ml.regression import DecisionTreeRegressor\n",
    "from pyspark.ml.tuning import ParamGridBuilder, CrossValidator\n",
    "from pyspark.ml.evaluation import RegressionEvaluator"
   ]
  },
  {
   "cell_type": "markdown",
   "id": "908d494c",
   "metadata": {},
   "source": [
    "### CART 回归决策树"
   ]
  },
  {
   "cell_type": "code",
   "execution_count": 26,
   "id": "e19260d4",
   "metadata": {},
   "outputs": [],
   "source": [
    "# 回归树调参\n",
    "dt= DecisionTreeRegressor(maxDepth=5, maxBins=30, labelCol=\"数值型因变量_scaled\", seed=123)\n",
    "grid= (ParamGridBuilder().addGrid(dt.maxDepth, [5, 10, 15, 20])\n",
    "                          .addGrid(dt.maxBins, [20, 30, 40])\n",
    "                          .build())\n",
    "dt_evaluator = RegressionEvaluator(labelCol='数值型因变量_scaled', metricName=\"rmse\", predictionCol='prediction')\n",
    "cv = CrossValidator(estimator=dt,\n",
    "                    evaluator=dt_evaluator,\n",
    "                    estimatorParamMaps=grid,\n",
    "                    numFolds=3)\n",
    "cvModel_dt = cv.fit(train_data)"
   ]
  },
  {
   "cell_type": "code",
   "execution_count": 27,
   "id": "dfa762fb",
   "metadata": {},
   "outputs": [
    {
     "data": {
      "text/plain": [
       "([{'maxDepth': 5}, {'maxBins': 30}], 0.10861565044272971)"
      ]
     },
     "execution_count": 27,
     "metadata": {},
     "output_type": "execute_result"
    }
   ],
   "source": [
    "dt_results = [\n",
    "    ([\n",
    "        {key.name: paramValue} for key, paramValue in zip(params.keys(), params.values())\n",
    "    ], metric) for params, metric in zip(cvModel_dt.getEstimatorParamMaps(), cvModel_dt.avgMetrics)\n",
    "]\n",
    "sorted(dt_results, key=lambda el:el[1], reverse=False)[0]              # 按rmse升序排列，取出rmse最小的"
   ]
  },
  {
   "cell_type": "code",
   "execution_count": 28,
   "id": "3d13385c",
   "metadata": {},
   "outputs": [
    {
     "data": {
      "text/plain": [
       "SparseVector(32, {0: 0.0261, 1: 0.0001, 11: 0.5136, 12: 0.1594, 20: 0.0719, 21: 0.0678, 22: 0.0009, 23: 0.0001, 29: 0.1563, 30: 0.0034, 31: 0.0004})"
      ]
     },
     "execution_count": 28,
     "metadata": {},
     "output_type": "execute_result"
    }
   ],
   "source": [
    "# 回归树-模型评估\n",
    "from pyspark.ml.regression import DecisionTreeRegressor\n",
    "dt = DecisionTreeRegressor(maxDepth=5,maxBins=20,varianceCol=\"variance\", labelCol='数值型因变量_scaled')\n",
    "dt_model = dt.fit(train_data)\n",
    "dt_model.featureImportances"
   ]
  },
  {
   "cell_type": "code",
   "execution_count": 29,
   "id": "d1fa38e2",
   "metadata": {},
   "outputs": [
    {
     "name": "stdout",
     "output_type": "stream",
     "text": [
      "+--------------------+-------------------+-------------------+--------------------+\n",
      "|            features|数值型因变量_scaled|         prediction|            variance|\n",
      "+--------------------+-------------------+-------------------+--------------------+\n",
      "|(32,[0,9,22,27,28...| 0.2703555998670654|0.23794095356207795|0.004883734407695688|\n",
      "|(32,[0,9,22,27,28...|0.22503323363243602|0.23794095356207795|0.004883734407695688|\n",
      "|(32,[0,9,22,27,28...|0.40403788634097704|0.23794095356207795|0.004883734407695688|\n",
      "+--------------------+-------------------+-------------------+--------------------+\n",
      "only showing top 3 rows\n",
      "\n"
     ]
    }
   ],
   "source": [
    "dt_t_result = dt_model.transform(test_data)\n",
    "dt_t_result.show(3)"
   ]
  },
  {
   "cell_type": "code",
   "execution_count": 30,
   "id": "bd2f3a68",
   "metadata": {},
   "outputs": [
    {
     "name": "stdout",
     "output_type": "stream",
     "text": [
      "决策树回归评估结果:\n",
      "RMSE: 0.0983\n",
      "MAE : 0.0636\n",
      "R²  : 0.2576\n"
     ]
    }
   ],
   "source": [
    "from pyspark.ml.evaluation import RegressionEvaluator\n",
    "evaluator_rmse = RegressionEvaluator(labelCol='数值型因变量_scaled', predictionCol='prediction', metricName='rmse')\n",
    "evaluator_mae  = RegressionEvaluator(labelCol='数值型因变量_scaled', predictionCol='prediction', metricName='mae')\n",
    "evaluator_r2   = RegressionEvaluator(labelCol='数值型因变量_scaled', predictionCol='prediction', metricName='r2')\n",
    "\n",
    "dt_rmse = evaluator_rmse.evaluate(dt_t_result)\n",
    "dt_mae  = evaluator_mae.evaluate(dt_t_result)\n",
    "dt_r2   = evaluator_r2.evaluate(dt_t_result)\n",
    "\n",
    "print(\"决策树回归评估结果:\")\n",
    "print(f\"RMSE: {dt_rmse:.4f}\")\n",
    "print(f\"MAE : {dt_mae:.4f}\")\n",
    "print(f\"R²  : {dt_r2:.4f}\")"
   ]
  },
  {
   "cell_type": "markdown",
   "id": "2ce320dc",
   "metadata": {},
   "source": [
    "### Bagging集成——随机森林"
   ]
  },
  {
   "cell_type": "code",
   "execution_count": 31,
   "id": "bac6e5f9",
   "metadata": {},
   "outputs": [],
   "source": [
    "from pyspark.ml.regression import RandomForestRegressor\n",
    "from pyspark.ml.tuning import ParamGridBuilder, CrossValidator"
   ]
  },
  {
   "cell_type": "code",
   "execution_count": 32,
   "id": "5a820117",
   "metadata": {},
   "outputs": [
    {
     "data": {
      "text/plain": [
       "([{'numTrees': 80}, {'maxDepth': 5}, {'maxBins': 30}], 0.09144978840774276)"
      ]
     },
     "execution_count": 32,
     "metadata": {},
     "output_type": "execute_result"
    }
   ],
   "source": [
    "# 随机森林调参\n",
    "rf = RandomForestRegressor(numTrees=3, maxDepth=10, maxBins=30, labelCol=\"数值型因变量_scaled\", seed=123)\n",
    "grid = (ParamGridBuilder().addGrid(rf.numTrees, [20, 40,60,80])\n",
    "                          .addGrid(rf.maxDepth, [5, 10,20, 30])\n",
    "                          .addGrid(rf.maxBins, [20, 30, 40])\n",
    "                          .build())\n",
    "rf_evaluator = RegressionEvaluator(labelCol='数值型因变量_scaled', metricName=\"rmse\", predictionCol='prediction')\n",
    "cv = CrossValidator(estimator=rf,\n",
    "                    evaluator=rf_evaluator,\n",
    "                    estimatorParamMaps=grid,\n",
    "                    numFolds=3)\n",
    "cvModel_rf = cv.fit(train_data)\n",
    "rf_results = [\n",
    "    ([\n",
    "        {key.name: paramValue} for key, paramValue in zip(params.keys(), params.values())\n",
    "    ], metric) for params, metric in zip(cvModel_rf.getEstimatorParamMaps(), cvModel_rf.avgMetrics)\n",
    "]\n",
    "sorted(rf_results, key=lambda el:el[1], reverse=False)[0]"
   ]
  },
  {
   "cell_type": "code",
   "execution_count": 33,
   "id": "baa96046",
   "metadata": {},
   "outputs": [
    {
     "data": {
      "text/plain": [
       "SparseVector(32, {0: 0.0241, 1: 0.0201, 2: 0.0, 3: 0.0027, 4: 0.0021, 5: 0.003, 7: 0.0044, 8: 0.0, 9: 0.0067, 10: 0.0042, 11: 0.2289, 12: 0.0691, 13: 0.0034, 14: 0.0212, 15: 0.0183, 16: 0.0067, 17: 0.0107, 18: 0.0331, 19: 0.0, 20: 0.0302, 21: 0.0302, 22: 0.0267, 23: 0.0459, 24: 0.0111, 27: 0.0592, 28: 0.0172, 29: 0.094, 30: 0.1036, 31: 0.1232})"
      ]
     },
     "execution_count": 33,
     "metadata": {},
     "output_type": "execute_result"
    }
   ],
   "source": [
    "# 随机森林-模型评估\n",
    "from pyspark.ml.regression import RandomForestRegressor\n",
    "rf = RandomForestRegressor(numTrees=40, maxDepth=10, maxBins=20,seed=2023, labelCol='数值型因变量_scaled')\n",
    "rf_model = rf.fit(train_data)\n",
    "rf_model.featureImportances"
   ]
  },
  {
   "cell_type": "code",
   "execution_count": 34,
   "id": "eb5ea187",
   "metadata": {},
   "outputs": [
    {
     "name": "stdout",
     "output_type": "stream",
     "text": [
      "+--------------------+-------------------+-------------------+\n",
      "|            features|数值型因变量_scaled|         prediction|\n",
      "+--------------------+-------------------+-------------------+\n",
      "|(32,[0,9,22,27,28...| 0.2703555998670654|0.24865871323351357|\n",
      "|(32,[0,9,22,27,28...|0.22503323363243602|0.23392733890728787|\n",
      "|(32,[0,9,22,27,28...|0.40403788634097704|0.24997741301561396|\n",
      "+--------------------+-------------------+-------------------+\n",
      "only showing top 3 rows\n",
      "\n"
     ]
    }
   ],
   "source": [
    "rf_t_result = rf_model.transform(test_data)\n",
    "rf_t_result.show(3)"
   ]
  },
  {
   "cell_type": "code",
   "execution_count": 35,
   "id": "046047a3",
   "metadata": {},
   "outputs": [
    {
     "name": "stdout",
     "output_type": "stream",
     "text": [
      "随机森林回归评估结果:\n",
      "RMSE: 0.0953\n",
      "MAE : 0.0603\n",
      "R²  : 0.3030\n"
     ]
    }
   ],
   "source": [
    "from pyspark.ml.evaluation import RegressionEvaluator\n",
    "evaluator_rmse = RegressionEvaluator(labelCol='数值型因变量_scaled', predictionCol='prediction', metricName='rmse')\n",
    "evaluator_mae  = RegressionEvaluator(labelCol='数值型因变量_scaled', predictionCol='prediction', metricName='mae')\n",
    "evaluator_r2   = RegressionEvaluator(labelCol='数值型因变量_scaled', predictionCol='prediction', metricName='r2')\n",
    "\n",
    "rf_rmse = evaluator_rmse.evaluate(rf_t_result)\n",
    "rf_mae  = evaluator_mae.evaluate(rf_t_result)\n",
    "rf_r2   = evaluator_r2.evaluate(rf_t_result)\n",
    "\n",
    "print(\"随机森林回归评估结果:\")\n",
    "print(f\"RMSE: {rf_rmse:.4f}\")\n",
    "print(f\"MAE : {rf_mae:.4f}\")\n",
    "print(f\"R²  : {rf_r2:.4f}\")"
   ]
  },
  {
   "cell_type": "markdown",
   "id": "e6f27147",
   "metadata": {},
   "source": [
    "### Boosting集成——梯度提升树GDBT"
   ]
  },
  {
   "cell_type": "code",
   "execution_count": 36,
   "id": "c405b678",
   "metadata": {},
   "outputs": [],
   "source": [
    "from pyspark.ml.regression import GBTRegressor\n",
    "from pyspark.ml.tuning import ParamGridBuilder, CrossValidator"
   ]
  },
  {
   "cell_type": "code",
   "execution_count": 37,
   "id": "a10d001b",
   "metadata": {},
   "outputs": [
    {
     "data": {
      "text/plain": [
       "([{'maxDepth': 5}, {'maxBins': 20}], 0.11013356139113517)"
      ]
     },
     "execution_count": 37,
     "metadata": {},
     "output_type": "execute_result"
    }
   ],
   "source": [
    "#GBDT调参\n",
    "gbt= GBTRegressor(maxDepth=5, maxBins=30, labelCol=\"数值型因变量_scaled\", seed=123)\n",
    "grid= (ParamGridBuilder().addGrid(gbt.maxDepth, [5, 10, 15, 20])\n",
    "                          .addGrid(gbt.maxBins, [20, 30, 40])\n",
    "                          .build())\n",
    "gbt_evaluator = RegressionEvaluator(labelCol='数值型因变量_scaled', metricName=\"rmse\", predictionCol='prediction')\n",
    "cv = CrossValidator(estimator=gbt,\n",
    "                    evaluator=gbt_evaluator,\n",
    "                    estimatorParamMaps=grid,\n",
    "                    numFolds=3)\n",
    "cvModel_gbt = cv.fit(train_data)\n",
    "gbt_results = [\n",
    "    ([\n",
    "        {key.name: paramValue} for key, paramValue in zip(params.keys(), params.values())\n",
    "    ], metric) for params, metric in zip(cvModel_gbt.getEstimatorParamMaps(), cvModel_gbt.avgMetrics)\n",
    "]\n",
    "sorted(gbt_results, key=lambda el:el[1], reverse=False)[0]"
   ]
  },
  {
   "cell_type": "code",
   "execution_count": 38,
   "id": "fc4cf912",
   "metadata": {},
   "outputs": [
    {
     "name": "stdout",
     "output_type": "stream",
     "text": [
      "+--------------------+-------------------+-------------------+\n",
      "|            features|数值型因变量_scaled|         prediction|\n",
      "+--------------------+-------------------+-------------------+\n",
      "|(32,[0,9,22,27,28...| 0.2703555998670654|0.29836238643220586|\n",
      "|(32,[0,9,22,27,28...|0.22503323363243602| 0.2335099506378417|\n",
      "|(32,[0,9,22,27,28...|0.40403788634097704|0.28881096369393777|\n",
      "+--------------------+-------------------+-------------------+\n",
      "only showing top 3 rows\n",
      "\n"
     ]
    }
   ],
   "source": [
    "#GBDT-测试集模型评估\n",
    "from pyspark.ml.regression import GBTRegressor\n",
    "gbt = GBTRegressor(maxDepth=5, maxBins=20,labelCol='数值型因变量_scaled')\n",
    "gbt_model = gbt.fit(train_data)\n",
    "gdt_t_result = gbt_model.transform(test_data)\n",
    "gdt_t_result.show(3)"
   ]
  },
  {
   "cell_type": "code",
   "execution_count": 39,
   "id": "b9360c13",
   "metadata": {},
   "outputs": [
    {
     "name": "stdout",
     "output_type": "stream",
     "text": [
      "梯度提升树回归评估结果:\n",
      "RMSE: 0.0934\n",
      "MAE : 0.0598\n",
      "R²  : 0.3302\n"
     ]
    }
   ],
   "source": [
    "from pyspark.ml.evaluation import RegressionEvaluator\n",
    "evaluator_rmse = RegressionEvaluator(labelCol='数值型因变量_scaled', predictionCol='prediction', metricName='rmse')\n",
    "evaluator_mae  = RegressionEvaluator(labelCol='数值型因变量_scaled', predictionCol='prediction', metricName='mae')\n",
    "evaluator_r2   = RegressionEvaluator(labelCol='数值型因变量_scaled', predictionCol='prediction', metricName='r2')\n",
    "\n",
    "gbt_rmse = evaluator_rmse.evaluate(gdt_t_result)\n",
    "gbt_mae  = evaluator_mae.evaluate(gdt_t_result)\n",
    "gbt_r2   = evaluator_r2.evaluate(gdt_t_result)\n",
    "\n",
    "print(\"梯度提升树回归评估结果:\")\n",
    "print(f\"RMSE: {gbt_rmse:.4f}\")\n",
    "print(f\"MAE : {gbt_mae:.4f}\")\n",
    "print(f\"R²  : {gbt_r2:.4f}\")"
   ]
  }
 ],
 "metadata": {
  "kernelspec": {
   "display_name": "cs5296",
   "language": "python",
   "name": "cs5296"
  },
  "language_info": {
   "codemirror_mode": {
    "name": "ipython",
    "version": 3
   },
   "file_extension": ".py",
   "mimetype": "text/x-python",
   "name": "python",
   "nbconvert_exporter": "python",
   "pygments_lexer": "ipython3",
   "version": "3.8.2"
  }
 },
 "nbformat": 4,
 "nbformat_minor": 5
}
